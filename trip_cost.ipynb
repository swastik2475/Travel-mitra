{
  "nbformat": 4,
  "nbformat_minor": 0,
  "metadata": {
    "colab": {
      "provenance": [],
      "include_colab_link": true
    },
    "kernelspec": {
      "name": "python3",
      "display_name": "Python 3"
    },
    "language_info": {
      "name": "python"
    }
  },
  "cells": [
    {
      "cell_type": "markdown",
      "metadata": {
        "id": "view-in-github",
        "colab_type": "text"
      },
      "source": [
        "<a href=\"https://colab.research.google.com/github/swastik2475/Travel-mitra/blob/main/trip_cost.ipynb\" target=\"_parent\"><img src=\"https://colab.research.google.com/assets/colab-badge.svg\" alt=\"Open In Colab\"/></a>"
      ]
    },
    {
      "cell_type": "code",
      "execution_count": null,
      "metadata": {
        "id": "PhU_uSqGaxOD"
      },
      "outputs": [],
      "source": [
        "import pandas as pd\n",
        "from sklearn.model_selection import train_test_split\n",
        "from sklearn.linear_model import LinearRegression\n",
        "from sklearn.compose import ColumnTransformer\n",
        "from sklearn.preprocessing import OneHotEncoder, OrdinalEncoder\n",
        "from sklearn.pipeline import Pipeline\n",
        "from sklearn.metrics import r2_score, mean_squared_error,mean_absolute_error"
      ]
    },
    {
      "cell_type": "code",
      "source": [
        "!pip install pandas-profiling"
      ],
      "metadata": {
        "id": "oNmPv6uu07iQ"
      },
      "execution_count": null,
      "outputs": []
    },
    {
      "cell_type": "code",
      "source": [
        "pip install ydata-profiling"
      ],
      "metadata": {
        "id": "yu5u2d3v0-6A"
      },
      "execution_count": null,
      "outputs": []
    },
    {
      "cell_type": "code",
      "source": [
        "df=pd.read_csv('/content/trip_cost.csv')"
      ],
      "metadata": {
        "id": "XbGNZhD9kBYu"
      },
      "execution_count": null,
      "outputs": []
    },
    {
      "cell_type": "code",
      "source": [
        "from ydata_profiling import ProfileReport\n",
        "\n",
        "prof = ProfileReport(df, title=\"Travel Cost Report\")\n",
        "prof.to_file(\"output.html\")"
      ],
      "metadata": {
        "id": "aHtHRCLM1ivN"
      },
      "execution_count": null,
      "outputs": []
    },
    {
      "cell_type": "code",
      "source": [
        "target_cols = ['distance_km','food_cost_per_day', 'accommodation_cost_per_night', 'activities_cost', 'transport_cost_per_km','total_cost']\n",
        "X = df.drop(columns=target_cols+['total_cost'])\n",
        "y = df[target_cols]"
      ],
      "metadata": {
        "id": "KYYUXwsok7jV"
      },
      "execution_count": null,
      "outputs": []
    },
    {
      "cell_type": "code",
      "source": [
        "from sklearn.impute import SimpleImputer\n",
        "from sklearn.preprocessing import OneHotEncoder\n",
        "from sklearn.preprocessing import OrdinalEncoder\n",
        "from sklearn.compose import ColumnTransformer"
      ],
      "metadata": {
        "id": "wOoweQoCk9Rq"
      },
      "execution_count": null,
      "outputs": []
    },
    {
      "cell_type": "code",
      "source": [
        "from sklearn.compose import ColumnTransformer\n",
        "from sklearn.preprocessing import OrdinalEncoder, OneHotEncoder\n",
        "\n",
        "transformer = ColumnTransformer(transformers=[\n",
        "    ('ordinal', OrdinalEncoder(handle_unknown='use_encoded_value', unknown_value=-1), ['season']),\n",
        "    ('onehot', OneHotEncoder(handle_unknown='ignore'), ['city', 'transport_mode']),\n",
        "], remainder='passthrough',force_int_remainder_cols=False)\n"
      ],
      "metadata": {
        "id": "nw1IvEBRl4TA"
      },
      "execution_count": null,
      "outputs": []
    },
    {
      "cell_type": "code",
      "source": [
        "#identify categorical columns\n",
        "categorical_columns=df.select_dtypes(include=['object']).columns\n",
        "#categorical fill with mode\n",
        "for col in categorical_columns:\n",
        " if df[col].isnull().sum()>0:\n",
        "  mode_value=df[col].mode()[0]\n",
        "  df[col].fillna(mode_value,inplace=True)\n",
        "\n",
        "#one hot encoding\n",
        "data_encoded=pd.get_dummies(df,columns=categorical_columns,drop_first=True)\n",
        "data_encoded.head()"
      ],
      "metadata": {
        "id": "vmktKX1BxmRe"
      },
      "execution_count": null,
      "outputs": []
    },
    {
      "cell_type": "code",
      "source": [
        "column_transformer = ColumnTransformer(transformers=[\n",
        "    ('ordinal', OrdinalEncoder(categories=[['off-peak',' monsoon','peak','winter', 'monsoon', 'summer']]), ['season']),\n",
        "    ('onehot', OneHotEncoder(drop='first'), ['start_location','end_location','transport_mode','accommodation_type'])\n",
        "], remainder='passthrough')"
      ],
      "metadata": {
        "id": "zjE7ywc7mxuy"
      },
      "execution_count": null,
      "outputs": []
    },
    {
      "cell_type": "code",
      "source": [
        "ct=ColumnTransformer(transformers=[\n",
        "    ('ordinal', OrdinalEncoder(handle_unknown='use_encoded_value', unknown_value=-1), ['season']),\n",
        "    ('onehot', OneHotEncoder(handle_unknown='ignore'), ['city']),\n",
        "    ...\n",
        "])\n"
      ],
      "metadata": {
        "id": "VI7d2AMSsN88"
      },
      "execution_count": null,
      "outputs": []
    },
    {
      "cell_type": "code",
      "source": [],
      "metadata": {
        "id": "S7BguM_OyYI_"
      },
      "execution_count": null,
      "outputs": []
    },
    {
      "cell_type": "code",
      "source": [
        "from sklearn.multioutput import MultiOutputRegressor\n",
        "from sklearn.linear_model import LinearRegression\n",
        "from sklearn.pipeline import Pipeline\n",
        "\n",
        "model = Pipeline(steps=[\n",
        "    ('preprocessing', column_transformer),\n",
        "    ('regression', MultiOutputRegressor(LinearRegression()))\n",
        "])"
      ],
      "metadata": {
        "id": "K1GzRiter1CX"
      },
      "execution_count": null,
      "outputs": []
    },
    {
      "cell_type": "code",
      "source": [
        "from sklearn.model_selection import train_test_split\n",
        "X_train, X_test, Y_train, Y_test = train_test_split(X, y, test_size=0.2, random_state=42)"
      ],
      "metadata": {
        "id": "CLZy6nQ9kj0H"
      },
      "execution_count": null,
      "outputs": []
    },
    {
      "cell_type": "code",
      "source": [
        "Y_test"
      ],
      "metadata": {
        "id": "izOndyg1yG_n"
      },
      "execution_count": null,
      "outputs": []
    },
    {
      "cell_type": "code",
      "source": [
        "model.fit(X_train,Y_train)"
      ],
      "metadata": {
        "id": "xuD9uktWtv0N"
      },
      "execution_count": null,
      "outputs": []
    },
    {
      "cell_type": "code",
      "source": [
        "Y_pred = model.predict(X_test)"
      ],
      "metadata": {
        "id": "UDwLUYXdvRHt"
      },
      "execution_count": null,
      "outputs": []
    },
    {
      "cell_type": "code",
      "source": [
        "pd.DataFrame(Y_pred,columns=target_cols)"
      ],
      "metadata": {
        "id": "VE9cpX-VvTsw"
      },
      "execution_count": null,
      "outputs": []
    },
    {
      "cell_type": "code",
      "source": [
        "print(\"R² Score:\", r2_score(Y_test, Y_pred))\n",
        "print(\"MSE:\", mean_squared_error(Y_test, Y_pred))\n",
        "print(\"MAE:\", mean_absolute_error(Y_test, Y_pred))\n"
      ],
      "metadata": {
        "id": "iXblbms3vd-J"
      },
      "execution_count": null,
      "outputs": []
    },
    {
      "cell_type": "code",
      "source": [
        "user_data = {\n",
        "     'start_location': input(\"Enter start location: \"),\n",
        "     'end_location':  input(\"Enter end location: \"),\n",
        "     'transport_mode': input(\"Enter transport mode (bus/train/flight): \"),\n",
        "     'accommodation_type': input(\"Enter accommodation type (hotel/homestay/etc.): \"),\n",
        "     'trip_days': int(input(\"Enter number of trip days: \")),\n",
        "     'trip_nights': int(input(\"Enter number of trip nights: \")),\n",
        "     'num_travelers':  int(input(\"Enter number of travelers: \")),\n",
        "     'season': input(\"Enter season (off-peak/monsoon/peak): \")\n",
        "     ,\n",
        "}\n",
        "user_df = pd.DataFrame([user_data])\n",
        "\n",
        "\n",
        "for col in categorical_columns:\n",
        "  if user_df[col].isnull().sum()>0:\n",
        "    mode_value=user_df[col].mode()[0]\n",
        "    user_df[col].fillna(mode_value,inplace=True)\n",
        "\n",
        "# Step 3: Predict using your trained model\n",
        "predicted_output = model.predict(user_df)\n",
        "\n",
        "# Step 4: Display the output\n",
        "target_cols = ['distance_km','food_cost_per_day', 'accommodation_cost_per_night', 'activities_cost', 'transport_cost_per_km']\n",
        "for col, value in zip(target_cols, predicted_output[0]):\n",
        "    print(f\"{col}: {round(value, 2)}\")\n",
        "\n",
        "\n"
      ],
      "metadata": {
        "id": "YvQ25YKLw_xT"
      },
      "execution_count": null,
      "outputs": []
    }
  ]
}